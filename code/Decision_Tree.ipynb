{
 "cells": [
  {
   "cell_type": "code",
   "execution_count": 278,
   "source": [
    "import pandas as pd\n",
    "import matplotlib.pyplot as plt\n",
    "import matplotlib\n",
    "import matplotlib.image as mpimg\n",
    "import pydotplus\n",
    "from io import StringIO\n",
    "import graphviz\n",
    "from sklearn.tree import export_graphviz\n",
    "df = pd.read_csv('../datasets/scores_w_avgs.csv')\n",
    "df = df.dropna()\n",
    "df"
   ],
   "outputs": [
    {
     "output_type": "execute_result",
     "data": {
      "text/html": [
       "<div>\n",
       "<style scoped>\n",
       "    .dataframe tbody tr th:only-of-type {\n",
       "        vertical-align: middle;\n",
       "    }\n",
       "\n",
       "    .dataframe tbody tr th {\n",
       "        vertical-align: top;\n",
       "    }\n",
       "\n",
       "    .dataframe thead th {\n",
       "        text-align: right;\n",
       "    }\n",
       "</style>\n",
       "<table border=\"1\" class=\"dataframe\">\n",
       "  <thead>\n",
       "    <tr style=\"text-align: right;\">\n",
       "      <th></th>\n",
       "      <th>schedule_date</th>\n",
       "      <th>schedule_season</th>\n",
       "      <th>home_id</th>\n",
       "      <th>away_id</th>\n",
       "      <th>score_home</th>\n",
       "      <th>home_avg_yards</th>\n",
       "      <th>home_avg_TO</th>\n",
       "      <th>score_away</th>\n",
       "      <th>away_avg_yards</th>\n",
       "      <th>away_avg_TO</th>\n",
       "      <th>total_score</th>\n",
       "      <th>over_under_line</th>\n",
       "      <th>label</th>\n",
       "    </tr>\n",
       "  </thead>\n",
       "  <tbody>\n",
       "    <tr>\n",
       "      <th>0</th>\n",
       "      <td>1/14/1968</td>\n",
       "      <td>1967</td>\n",
       "      <td>GNB</td>\n",
       "      <td>RAI</td>\n",
       "      <td>33</td>\n",
       "      <td>304.117647</td>\n",
       "      <td>2.529412</td>\n",
       "      <td>14</td>\n",
       "      <td>361.764706</td>\n",
       "      <td>2.352941</td>\n",
       "      <td>47</td>\n",
       "      <td>43.0</td>\n",
       "      <td>over</td>\n",
       "    </tr>\n",
       "    <tr>\n",
       "      <th>1</th>\n",
       "      <td>1/12/1969</td>\n",
       "      <td>1968</td>\n",
       "      <td>CLT</td>\n",
       "      <td>NYJ</td>\n",
       "      <td>7</td>\n",
       "      <td>332.529412</td>\n",
       "      <td>2.529412</td>\n",
       "      <td>16</td>\n",
       "      <td>365.470588</td>\n",
       "      <td>1.823529</td>\n",
       "      <td>23</td>\n",
       "      <td>40.0</td>\n",
       "      <td>under</td>\n",
       "    </tr>\n",
       "    <tr>\n",
       "      <th>2</th>\n",
       "      <td>1/11/1970</td>\n",
       "      <td>1969</td>\n",
       "      <td>KAN</td>\n",
       "      <td>MIN</td>\n",
       "      <td>23</td>\n",
       "      <td>315.470588</td>\n",
       "      <td>2.588235</td>\n",
       "      <td>7</td>\n",
       "      <td>293.705882</td>\n",
       "      <td>2.235294</td>\n",
       "      <td>30</td>\n",
       "      <td>39.0</td>\n",
       "      <td>under</td>\n",
       "    </tr>\n",
       "    <tr>\n",
       "      <th>3</th>\n",
       "      <td>1/17/1971</td>\n",
       "      <td>1970</td>\n",
       "      <td>CLT</td>\n",
       "      <td>DAL</td>\n",
       "      <td>16</td>\n",
       "      <td>301.470588</td>\n",
       "      <td>2.529412</td>\n",
       "      <td>13</td>\n",
       "      <td>306.823529</td>\n",
       "      <td>2.000000</td>\n",
       "      <td>29</td>\n",
       "      <td>36.0</td>\n",
       "      <td>under</td>\n",
       "    </tr>\n",
       "    <tr>\n",
       "      <th>4</th>\n",
       "      <td>1/16/1972</td>\n",
       "      <td>1971</td>\n",
       "      <td>DAL</td>\n",
       "      <td>MIA</td>\n",
       "      <td>24</td>\n",
       "      <td>342.000000</td>\n",
       "      <td>2.176471</td>\n",
       "      <td>3</td>\n",
       "      <td>311.176471</td>\n",
       "      <td>1.705882</td>\n",
       "      <td>27</td>\n",
       "      <td>34.0</td>\n",
       "      <td>under</td>\n",
       "    </tr>\n",
       "    <tr>\n",
       "      <th>...</th>\n",
       "      <td>...</td>\n",
       "      <td>...</td>\n",
       "      <td>...</td>\n",
       "      <td>...</td>\n",
       "      <td>...</td>\n",
       "      <td>...</td>\n",
       "      <td>...</td>\n",
       "      <td>...</td>\n",
       "      <td>...</td>\n",
       "      <td>...</td>\n",
       "      <td>...</td>\n",
       "      <td>...</td>\n",
       "      <td>...</td>\n",
       "    </tr>\n",
       "    <tr>\n",
       "      <th>10391</th>\n",
       "      <td>1/17/2021</td>\n",
       "      <td>2020</td>\n",
       "      <td>KAN</td>\n",
       "      <td>CLE</td>\n",
       "      <td>22</td>\n",
       "      <td>417.117647</td>\n",
       "      <td>1.000000</td>\n",
       "      <td>17</td>\n",
       "      <td>370.882353</td>\n",
       "      <td>0.882353</td>\n",
       "      <td>39</td>\n",
       "      <td>56.0</td>\n",
       "      <td>under</td>\n",
       "    </tr>\n",
       "    <tr>\n",
       "      <th>10392</th>\n",
       "      <td>1/17/2021</td>\n",
       "      <td>2020</td>\n",
       "      <td>NOR</td>\n",
       "      <td>TAM</td>\n",
       "      <td>20</td>\n",
       "      <td>378.294118</td>\n",
       "      <td>1.294118</td>\n",
       "      <td>30</td>\n",
       "      <td>391.647059</td>\n",
       "      <td>0.882353</td>\n",
       "      <td>50</td>\n",
       "      <td>53.0</td>\n",
       "      <td>under</td>\n",
       "    </tr>\n",
       "    <tr>\n",
       "      <th>10393</th>\n",
       "      <td>1/24/2021</td>\n",
       "      <td>2020</td>\n",
       "      <td>GNB</td>\n",
       "      <td>TAM</td>\n",
       "      <td>26</td>\n",
       "      <td>386.294118</td>\n",
       "      <td>0.764706</td>\n",
       "      <td>31</td>\n",
       "      <td>392.352941</td>\n",
       "      <td>0.941176</td>\n",
       "      <td>57</td>\n",
       "      <td>53.0</td>\n",
       "      <td>over</td>\n",
       "    </tr>\n",
       "    <tr>\n",
       "      <th>10394</th>\n",
       "      <td>1/24/2021</td>\n",
       "      <td>2020</td>\n",
       "      <td>KAN</td>\n",
       "      <td>BUF</td>\n",
       "      <td>38</td>\n",
       "      <td>421.235294</td>\n",
       "      <td>1.058824</td>\n",
       "      <td>24</td>\n",
       "      <td>376.235294</td>\n",
       "      <td>1.176471</td>\n",
       "      <td>62</td>\n",
       "      <td>55.0</td>\n",
       "      <td>over</td>\n",
       "    </tr>\n",
       "    <tr>\n",
       "      <th>10395</th>\n",
       "      <td>2/7/2021</td>\n",
       "      <td>2020</td>\n",
       "      <td>TAM</td>\n",
       "      <td>KAN</td>\n",
       "      <td>31</td>\n",
       "      <td>391.588235</td>\n",
       "      <td>0.941176</td>\n",
       "      <td>9</td>\n",
       "      <td>417.470588</td>\n",
       "      <td>1.176471</td>\n",
       "      <td>40</td>\n",
       "      <td>54.5</td>\n",
       "      <td>under</td>\n",
       "    </tr>\n",
       "  </tbody>\n",
       "</table>\n",
       "<p>10332 rows × 13 columns</p>\n",
       "</div>"
      ],
      "text/plain": [
       "      schedule_date  schedule_season home_id away_id  score_home  \\\n",
       "0         1/14/1968             1967     GNB     RAI          33   \n",
       "1         1/12/1969             1968     CLT     NYJ           7   \n",
       "2         1/11/1970             1969     KAN     MIN          23   \n",
       "3         1/17/1971             1970     CLT     DAL          16   \n",
       "4         1/16/1972             1971     DAL     MIA          24   \n",
       "...             ...              ...     ...     ...         ...   \n",
       "10391     1/17/2021             2020     KAN     CLE          22   \n",
       "10392     1/17/2021             2020     NOR     TAM          20   \n",
       "10393     1/24/2021             2020     GNB     TAM          26   \n",
       "10394     1/24/2021             2020     KAN     BUF          38   \n",
       "10395      2/7/2021             2020     TAM     KAN          31   \n",
       "\n",
       "       home_avg_yards  home_avg_TO  score_away  away_avg_yards  away_avg_TO  \\\n",
       "0          304.117647     2.529412          14      361.764706     2.352941   \n",
       "1          332.529412     2.529412          16      365.470588     1.823529   \n",
       "2          315.470588     2.588235           7      293.705882     2.235294   \n",
       "3          301.470588     2.529412          13      306.823529     2.000000   \n",
       "4          342.000000     2.176471           3      311.176471     1.705882   \n",
       "...               ...          ...         ...             ...          ...   \n",
       "10391      417.117647     1.000000          17      370.882353     0.882353   \n",
       "10392      378.294118     1.294118          30      391.647059     0.882353   \n",
       "10393      386.294118     0.764706          31      392.352941     0.941176   \n",
       "10394      421.235294     1.058824          24      376.235294     1.176471   \n",
       "10395      391.588235     0.941176           9      417.470588     1.176471   \n",
       "\n",
       "       total_score  over_under_line  label  \n",
       "0               47             43.0   over  \n",
       "1               23             40.0  under  \n",
       "2               30             39.0  under  \n",
       "3               29             36.0  under  \n",
       "4               27             34.0  under  \n",
       "...            ...              ...    ...  \n",
       "10391           39             56.0  under  \n",
       "10392           50             53.0  under  \n",
       "10393           57             53.0   over  \n",
       "10394           62             55.0   over  \n",
       "10395           40             54.5  under  \n",
       "\n",
       "[10332 rows x 13 columns]"
      ]
     },
     "metadata": {},
     "execution_count": 278
    }
   ],
   "metadata": {}
  },
  {
   "cell_type": "code",
   "execution_count": 279,
   "source": [
    "df['score_home'] = df['score_home'].astype('float64')\n",
    "df['score_away'] = df['score_away'].astype('float64')\n",
    "df['total_score'] = df['total_score'].astype('float64')\n",
    "df.info()"
   ],
   "outputs": [
    {
     "output_type": "stream",
     "name": "stdout",
     "text": [
      "<class 'pandas.core.frame.DataFrame'>\n",
      "Int64Index: 10332 entries, 0 to 10395\n",
      "Data columns (total 13 columns):\n",
      " #   Column           Non-Null Count  Dtype  \n",
      "---  ------           --------------  -----  \n",
      " 0   schedule_date    10332 non-null  object \n",
      " 1   schedule_season  10332 non-null  int64  \n",
      " 2   home_id          10332 non-null  object \n",
      " 3   away_id          10332 non-null  object \n",
      " 4   score_home       10332 non-null  float64\n",
      " 5   home_avg_yards   10332 non-null  float64\n",
      " 6   home_avg_TO      10332 non-null  float64\n",
      " 7   score_away       10332 non-null  float64\n",
      " 8   away_avg_yards   10332 non-null  float64\n",
      " 9   away_avg_TO      10332 non-null  float64\n",
      " 10  total_score      10332 non-null  float64\n",
      " 11  over_under_line  10332 non-null  float64\n",
      " 12  label            10332 non-null  object \n",
      "dtypes: float64(8), int64(1), object(4)\n",
      "memory usage: 1.1+ MB\n"
     ]
    }
   ],
   "metadata": {}
  },
  {
   "cell_type": "code",
   "execution_count": 280,
   "source": [
    "features = pd.DataFrame(df, columns = ['home_avg_yards', 'home_avg_TO', 'away_avg_yards', 'away_avg_TO'])\n",
    "labels = pd.DataFrame(df, columns=['label'])"
   ],
   "outputs": [],
   "metadata": {}
  },
  {
   "cell_type": "code",
   "execution_count": 281,
   "source": [
    "from sklearn.model_selection import train_test_split\n",
    "import numpy as np\n",
    "X_train, X_test, y_train, y_test = train_test_split(features, np.ravel(labels), test_size=0.3, random_state=109)\n",
    "print(X_train)"
   ],
   "outputs": [
    {
     "output_type": "stream",
     "name": "stdout",
     "text": [
      "      home_avg_yards  home_avg_TO  away_avg_yards  away_avg_TO\n",
      "315       347.588235     2.764706      364.647059     2.764706\n",
      "2404      307.705882     2.294118      303.117647     3.058824\n",
      "2959      287.000000     2.294118      332.117647     1.823529\n",
      "8940      395.235294     1.588235      338.882353     2.176471\n",
      "6173      418.294118     1.764706      359.764706     1.764706\n",
      "...              ...          ...             ...          ...\n",
      "2635      311.176471     2.352941      352.470588     1.823529\n",
      "2447      382.352941     1.941176      309.352941     1.823529\n",
      "141       278.882353     2.117647      280.058824     2.941176\n",
      "7989      323.529412     0.764706      396.294118     1.352941\n",
      "3317      266.529412     2.000000      295.823529     1.823529\n",
      "\n",
      "[7232 rows x 4 columns]\n"
     ]
    }
   ],
   "metadata": {}
  },
  {
   "cell_type": "code",
   "execution_count": 282,
   "source": [
    "from sklearn import tree, metrics\n",
    "\n",
    "# We want to test out different C values to see what works best\n",
    "clf = tree.DecisionTreeClassifier(criterion='entropy', random_state=0, max_depth=4)\n",
    "\n",
    "    \n",
    "    # Train the model using the training sets\n",
    "clf.fit(X_train, y_train)\n",
    "predictions = clf.predict(X_test)\n",
    "    \n",
    "tn, fp, fn, tp = metrics.confusion_matrix(y_test, predictions).ravel()\n",
    "accuracy = (tp + tn) / (tp + fp + fn + tn)\n",
    "precision = tp / (tp + fp)\n",
    "recall = tp / (tp + fn) \n",
    "f1 = (2*(recall * precision)) / (recall + precision)"
   ],
   "outputs": [],
   "metadata": {}
  },
  {
   "cell_type": "code",
   "execution_count": 283,
   "source": [
    "print(f\"accuracy: {accuracy}\")\n",
    "print(f\"precision: {precision}\")\n",
    "print(f\"recall: {recall}\")\n",
    "print(f\"f1: {f1}\")"
   ],
   "outputs": [
    {
     "output_type": "stream",
     "name": "stdout",
     "text": [
      "accuracy: 0.5229032258064517\n",
      "precision: 0.5427350427350427\n",
      "recall: 0.5491043854231007\n",
      "f1: 0.5459011360147374\n"
     ]
    }
   ],
   "metadata": {}
  },
  {
   "cell_type": "code",
   "execution_count": 286,
   "source": [
    "# plot tree\n",
    "print(features.columns)\n",
    "tree.plot_tree(clf)\n",
    "dot_data = StringIO()\n",
    "tree.export_graphviz(clf, out_file=dot_data, feature_names=features.columns, filled=True, rounded=True)\n",
    "filename = \"decision_tree.png\"\n",
    "pydotplus.graph_from_dot_data(dot_data.getvalue()).write_png(filename)\n",
    "#graph = graphviz.Source(dot_data)\n",
    "#graph.render(\"iris\")\n"
   ],
   "outputs": [
    {
     "output_type": "stream",
     "name": "stdout",
     "text": [
      "Index(['home_avg_yards', 'home_avg_TO', 'away_avg_yards', 'away_avg_TO'], dtype='object')\n"
     ]
    },
    {
     "output_type": "display_data",
     "data": {
      "image/png": "[encoded data removed]",
      "text/plain": [
       "<Figure size 432x288 with 1 Axes>"
      ]
     },
     "metadata": {
      "needs_background": "light"
     }
    },
    {
     "output_type": "display_data",
     "data": {
      "image/png": "[encoded data removed]",
      "text/plain": [
       "<Figure size 360x1080 with 1 Axes>"
      ]
     },
     "metadata": {
      "needs_background": "light"
     }
    }
   ],
   "metadata": {}
  },
  {
   "cell_type": "code",
   "execution_count": null,
   "source": [],
   "outputs": [],
   "metadata": {}
  },
  {
   "cell_type": "code",
   "execution_count": 285,
   "source": [
    "fmt = \"{0:.4f}\"\n",
    "for item in a:\n",
    "    print(f'c: {fmt.format(item[\"c\"])}, accuracy: {fmt.format(item[\"accuracy\"])}, precision: {fmt.format(item[\"precision\"])}, recall: {fmt.format(item[\"recall\"])}, f1: {fmt.format(item[\"f1\"])}')"
   ],
   "outputs": [
    {
     "output_type": "stream",
     "name": "stdout",
     "text": [
      "c: 0.1000, accuracy: 0.5290, precision: 0.5371, recall: 0.7109, f1: 0.6119\n",
      "c: 0.2000, accuracy: 0.5300, precision: 0.5380, recall: 0.7085, f1: 0.6116\n",
      "c: 0.3000, accuracy: 0.5310, precision: 0.5380, recall: 0.7221, f1: 0.6166\n",
      "c: 0.4000, accuracy: 0.5323, precision: 0.5387, recall: 0.7258, f1: 0.6184\n",
      "c: 0.5000, accuracy: 0.5313, precision: 0.5380, recall: 0.7258, f1: 0.6179\n",
      "c: 0.6000, accuracy: 0.5310, precision: 0.5382, recall: 0.7171, f1: 0.6149\n",
      "c: 0.7000, accuracy: 0.5290, precision: 0.5370, recall: 0.7134, f1: 0.6127\n",
      "c: 0.8000, accuracy: 0.5323, precision: 0.5393, recall: 0.7165, f1: 0.6154\n",
      "c: 0.9000, accuracy: 0.5319, precision: 0.5388, recall: 0.7208, f1: 0.6166\n",
      "c: 1.0000, accuracy: 0.5306, precision: 0.5381, recall: 0.7146, f1: 0.6140\n"
     ]
    }
   ],
   "metadata": {}
  },
  {
   "cell_type": "code",
   "execution_count": null,
   "source": [],
   "outputs": [],
   "metadata": {}
  }
 ],
 "metadata": {
  "kernelspec": {
   "name": "python3",
   "display_name": "Python 3.9.6 64-bit ('user-management': virtualenv)"
  },
  "language_info": {
   "codemirror_mode": {
    "name": "ipython",
    "version": 3
   },
   "file_extension": ".py",
   "mimetype": "text/x-python",
   "name": "python",
   "nbconvert_exporter": "python",
   "pygments_lexer": "ipython3",
   "version": "3.9.6"
  },
  "interpreter": {
   "hash": "0e6cd65e8d4602c2f236d429386889f5d6dbd9f9b9cb47023f7d5eddf21c285b"
  }
 },
 "nbformat": 4,
 "nbformat_minor": 4
}