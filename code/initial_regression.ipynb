{
 "cells": [
  {
   "cell_type": "code",
   "execution_count": 2,
   "metadata": {},
   "outputs": [
    {
     "data": {
      "text/html": [
       "<div>\n",
       "<style scoped>\n",
       "    .dataframe tbody tr th:only-of-type {\n",
       "        vertical-align: middle;\n",
       "    }\n",
       "\n",
       "    .dataframe tbody tr th {\n",
       "        vertical-align: top;\n",
       "    }\n",
       "\n",
       "    .dataframe thead th {\n",
       "        text-align: right;\n",
       "    }\n",
       "</style>\n",
       "<table border=\"1\" class=\"dataframe\">\n",
       "  <thead>\n",
       "    <tr style=\"text-align: right;\">\n",
       "      <th></th>\n",
       "      <th>schedule_date</th>\n",
       "      <th>schedule_season</th>\n",
       "      <th>home_id</th>\n",
       "      <th>away_id</th>\n",
       "      <th>score_home</th>\n",
       "      <th>home_avg_yards</th>\n",
       "      <th>home_avg_TO</th>\n",
       "      <th>score_away</th>\n",
       "      <th>away_avg_yards</th>\n",
       "      <th>away_avg_TO</th>\n",
       "      <th>total_score</th>\n",
       "      <th>over_under_line</th>\n",
       "      <th>label</th>\n",
       "    </tr>\n",
       "  </thead>\n",
       "  <tbody>\n",
       "    <tr>\n",
       "      <th>0</th>\n",
       "      <td>1/14/1968</td>\n",
       "      <td>1967</td>\n",
       "      <td>GNB</td>\n",
       "      <td>RAI</td>\n",
       "      <td>33</td>\n",
       "      <td>304.117647</td>\n",
       "      <td>2.529412</td>\n",
       "      <td>14</td>\n",
       "      <td>361.764706</td>\n",
       "      <td>2.352941</td>\n",
       "      <td>47</td>\n",
       "      <td>43.0</td>\n",
       "      <td>over</td>\n",
       "    </tr>\n",
       "    <tr>\n",
       "      <th>1</th>\n",
       "      <td>1/12/1969</td>\n",
       "      <td>1968</td>\n",
       "      <td>CLT</td>\n",
       "      <td>NYJ</td>\n",
       "      <td>7</td>\n",
       "      <td>332.529412</td>\n",
       "      <td>2.529412</td>\n",
       "      <td>16</td>\n",
       "      <td>365.470588</td>\n",
       "      <td>1.823529</td>\n",
       "      <td>23</td>\n",
       "      <td>40.0</td>\n",
       "      <td>under</td>\n",
       "    </tr>\n",
       "    <tr>\n",
       "      <th>2</th>\n",
       "      <td>1/11/1970</td>\n",
       "      <td>1969</td>\n",
       "      <td>KAN</td>\n",
       "      <td>MIN</td>\n",
       "      <td>23</td>\n",
       "      <td>315.470588</td>\n",
       "      <td>2.588235</td>\n",
       "      <td>7</td>\n",
       "      <td>293.705882</td>\n",
       "      <td>2.235294</td>\n",
       "      <td>30</td>\n",
       "      <td>39.0</td>\n",
       "      <td>under</td>\n",
       "    </tr>\n",
       "    <tr>\n",
       "      <th>3</th>\n",
       "      <td>1/17/1971</td>\n",
       "      <td>1970</td>\n",
       "      <td>CLT</td>\n",
       "      <td>DAL</td>\n",
       "      <td>16</td>\n",
       "      <td>301.470588</td>\n",
       "      <td>2.529412</td>\n",
       "      <td>13</td>\n",
       "      <td>306.823529</td>\n",
       "      <td>2.000000</td>\n",
       "      <td>29</td>\n",
       "      <td>36.0</td>\n",
       "      <td>under</td>\n",
       "    </tr>\n",
       "    <tr>\n",
       "      <th>4</th>\n",
       "      <td>1/16/1972</td>\n",
       "      <td>1971</td>\n",
       "      <td>DAL</td>\n",
       "      <td>MIA</td>\n",
       "      <td>24</td>\n",
       "      <td>342.000000</td>\n",
       "      <td>2.176471</td>\n",
       "      <td>3</td>\n",
       "      <td>311.176471</td>\n",
       "      <td>1.705882</td>\n",
       "      <td>27</td>\n",
       "      <td>34.0</td>\n",
       "      <td>under</td>\n",
       "    </tr>\n",
       "    <tr>\n",
       "      <th>...</th>\n",
       "      <td>...</td>\n",
       "      <td>...</td>\n",
       "      <td>...</td>\n",
       "      <td>...</td>\n",
       "      <td>...</td>\n",
       "      <td>...</td>\n",
       "      <td>...</td>\n",
       "      <td>...</td>\n",
       "      <td>...</td>\n",
       "      <td>...</td>\n",
       "      <td>...</td>\n",
       "      <td>...</td>\n",
       "      <td>...</td>\n",
       "    </tr>\n",
       "    <tr>\n",
       "      <th>10391</th>\n",
       "      <td>1/17/2021</td>\n",
       "      <td>2020</td>\n",
       "      <td>KAN</td>\n",
       "      <td>CLE</td>\n",
       "      <td>22</td>\n",
       "      <td>417.117647</td>\n",
       "      <td>1.000000</td>\n",
       "      <td>17</td>\n",
       "      <td>370.882353</td>\n",
       "      <td>0.882353</td>\n",
       "      <td>39</td>\n",
       "      <td>56.0</td>\n",
       "      <td>under</td>\n",
       "    </tr>\n",
       "    <tr>\n",
       "      <th>10392</th>\n",
       "      <td>1/17/2021</td>\n",
       "      <td>2020</td>\n",
       "      <td>NOR</td>\n",
       "      <td>TAM</td>\n",
       "      <td>20</td>\n",
       "      <td>378.294118</td>\n",
       "      <td>1.294118</td>\n",
       "      <td>30</td>\n",
       "      <td>391.647059</td>\n",
       "      <td>0.882353</td>\n",
       "      <td>50</td>\n",
       "      <td>53.0</td>\n",
       "      <td>under</td>\n",
       "    </tr>\n",
       "    <tr>\n",
       "      <th>10393</th>\n",
       "      <td>1/24/2021</td>\n",
       "      <td>2020</td>\n",
       "      <td>GNB</td>\n",
       "      <td>TAM</td>\n",
       "      <td>26</td>\n",
       "      <td>386.294118</td>\n",
       "      <td>0.764706</td>\n",
       "      <td>31</td>\n",
       "      <td>392.352941</td>\n",
       "      <td>0.941176</td>\n",
       "      <td>57</td>\n",
       "      <td>53.0</td>\n",
       "      <td>over</td>\n",
       "    </tr>\n",
       "    <tr>\n",
       "      <th>10394</th>\n",
       "      <td>1/24/2021</td>\n",
       "      <td>2020</td>\n",
       "      <td>KAN</td>\n",
       "      <td>BUF</td>\n",
       "      <td>38</td>\n",
       "      <td>421.235294</td>\n",
       "      <td>1.058824</td>\n",
       "      <td>24</td>\n",
       "      <td>376.235294</td>\n",
       "      <td>1.176471</td>\n",
       "      <td>62</td>\n",
       "      <td>55.0</td>\n",
       "      <td>over</td>\n",
       "    </tr>\n",
       "    <tr>\n",
       "      <th>10395</th>\n",
       "      <td>2/7/2021</td>\n",
       "      <td>2020</td>\n",
       "      <td>TAM</td>\n",
       "      <td>KAN</td>\n",
       "      <td>31</td>\n",
       "      <td>391.588235</td>\n",
       "      <td>0.941176</td>\n",
       "      <td>9</td>\n",
       "      <td>417.470588</td>\n",
       "      <td>1.176471</td>\n",
       "      <td>40</td>\n",
       "      <td>54.5</td>\n",
       "      <td>under</td>\n",
       "    </tr>\n",
       "  </tbody>\n",
       "</table>\n",
       "<p>10332 rows × 13 columns</p>\n",
       "</div>"
      ],
      "text/plain": [
       "      schedule_date  schedule_season home_id away_id  score_home  \\\n",
       "0         1/14/1968             1967     GNB     RAI          33   \n",
       "1         1/12/1969             1968     CLT     NYJ           7   \n",
       "2         1/11/1970             1969     KAN     MIN          23   \n",
       "3         1/17/1971             1970     CLT     DAL          16   \n",
       "4         1/16/1972             1971     DAL     MIA          24   \n",
       "...             ...              ...     ...     ...         ...   \n",
       "10391     1/17/2021             2020     KAN     CLE          22   \n",
       "10392     1/17/2021             2020     NOR     TAM          20   \n",
       "10393     1/24/2021             2020     GNB     TAM          26   \n",
       "10394     1/24/2021             2020     KAN     BUF          38   \n",
       "10395      2/7/2021             2020     TAM     KAN          31   \n",
       "\n",
       "       home_avg_yards  home_avg_TO  score_away  away_avg_yards  away_avg_TO  \\\n",
       "0          304.117647     2.529412          14      361.764706     2.352941   \n",
       "1          332.529412     2.529412          16      365.470588     1.823529   \n",
       "2          315.470588     2.588235           7      293.705882     2.235294   \n",
       "3          301.470588     2.529412          13      306.823529     2.000000   \n",
       "4          342.000000     2.176471           3      311.176471     1.705882   \n",
       "...               ...          ...         ...             ...          ...   \n",
       "10391      417.117647     1.000000          17      370.882353     0.882353   \n",
       "10392      378.294118     1.294118          30      391.647059     0.882353   \n",
       "10393      386.294118     0.764706          31      392.352941     0.941176   \n",
       "10394      421.235294     1.058824          24      376.235294     1.176471   \n",
       "10395      391.588235     0.941176           9      417.470588     1.176471   \n",
       "\n",
       "       total_score  over_under_line  label  \n",
       "0               47             43.0   over  \n",
       "1               23             40.0  under  \n",
       "2               30             39.0  under  \n",
       "3               29             36.0  under  \n",
       "4               27             34.0  under  \n",
       "...            ...              ...    ...  \n",
       "10391           39             56.0  under  \n",
       "10392           50             53.0  under  \n",
       "10393           57             53.0   over  \n",
       "10394           62             55.0   over  \n",
       "10395           40             54.5  under  \n",
       "\n",
       "[10332 rows x 13 columns]"
      ]
     },
     "execution_count": 2,
     "metadata": {},
     "output_type": "execute_result"
    }
   ],
   "source": [
    "# Used for plotting data\n",
    "%matplotlib inline\n",
    "import matplotlib.pyplot as plt\n",
    "# Used for data storage and manipulation \n",
    "import numpy as np\n",
    "import pandas as pd\n",
    "# Used for Regression Modelling\n",
    "from sklearn.linear_model import LinearRegression\n",
    "from sklearn import linear_model\n",
    "from sklearn.model_selection import train_test_split\n",
    "# Used for Acc metrics\n",
    "from sklearn.metrics import mean_squared_error\n",
    "from sklearn.metrics import r2_score\n",
    "# For stepwise regression\n",
    "import statsmodels.api as sm\n",
    "# box plots\n",
    "import seaborn as sns\n",
    "# pairplot\n",
    "from seaborn import pairplot\n",
    "# Correlation plot\n",
    "from statsmodels.graphics.correlation import plot_corr\n",
    "\n",
    "df = pd.read_csv('../datasets/scores_w_avgs.csv')\n",
    "df = df.dropna()\n",
    "df"
   ]
  },
  {
   "cell_type": "code",
   "execution_count": 47,
   "metadata": {},
   "outputs": [
    {
     "name": "stdout",
     "output_type": "stream",
     "text": [
      "<class 'pandas.core.frame.DataFrame'>\n",
      "Int64Index: 10332 entries, 0 to 10395\n",
      "Data columns (total 13 columns):\n",
      " #   Column           Non-Null Count  Dtype  \n",
      "---  ------           --------------  -----  \n",
      " 0   schedule_date    10332 non-null  object \n",
      " 1   schedule_season  10332 non-null  int64  \n",
      " 2   home_id          10332 non-null  object \n",
      " 3   away_id          10332 non-null  object \n",
      " 4   score_home       10332 non-null  float64\n",
      " 5   home_avg_yards   10332 non-null  float64\n",
      " 6   home_avg_TO      10332 non-null  float64\n",
      " 7   score_away       10332 non-null  float64\n",
      " 8   away_avg_yards   10332 non-null  float64\n",
      " 9   away_avg_TO      10332 non-null  float64\n",
      " 10  total_score      10332 non-null  float64\n",
      " 11  over_under_line  10332 non-null  float64\n",
      " 12  label            10332 non-null  object \n",
      "dtypes: float64(8), int64(1), object(4)\n",
      "memory usage: 1.1+ MB\n"
     ]
    }
   ],
   "source": [
    "df['score_home'] = df['score_home'].astype('float64')\n",
    "df['score_away'] = df['score_away'].astype('float64')\n",
    "df['total_score'] = df['total_score'].astype('float64')\n",
    "df.info()"
   ]
  },
  {
   "cell_type": "code",
   "execution_count": 1,
   "metadata": {},
   "outputs": [
    {
     "ename": "NameError",
     "evalue": "name 'pd' is not defined",
     "output_type": "error",
     "traceback": [
      "\u001b[1;31m---------------------------------------------------------------------------\u001b[0m",
      "\u001b[1;31mNameError\u001b[0m                                 Traceback (most recent call last)",
      "\u001b[1;32m<ipython-input-1-ad3cda6ff89b>\u001b[0m in \u001b[0;36m<module>\u001b[1;34m\u001b[0m\n\u001b[0;32m      1\u001b[0m \u001b[1;32mfrom\u001b[0m \u001b[0mIPython\u001b[0m\u001b[1;33m.\u001b[0m\u001b[0mdisplay\u001b[0m \u001b[1;32mimport\u001b[0m \u001b[0mdisplay\u001b[0m\u001b[1;33m\u001b[0m\u001b[1;33m\u001b[0m\u001b[0m\n\u001b[1;32m----> 2\u001b[1;33m \u001b[0mX\u001b[0m \u001b[1;33m=\u001b[0m \u001b[0mpd\u001b[0m\u001b[1;33m.\u001b[0m\u001b[0mDataFrame\u001b[0m\u001b[1;33m(\u001b[0m\u001b[0mdf\u001b[0m\u001b[1;33m,\u001b[0m \u001b[0mcolumns\u001b[0m \u001b[1;33m=\u001b[0m \u001b[1;33m[\u001b[0m\u001b[1;34m'home_avg_yards'\u001b[0m\u001b[1;33m,\u001b[0m \u001b[1;34m'home_avg_TO'\u001b[0m\u001b[1;33m,\u001b[0m \u001b[1;34m'away_avg_yards'\u001b[0m\u001b[1;33m,\u001b[0m \u001b[1;34m'away_avg_TO'\u001b[0m\u001b[1;33m]\u001b[0m\u001b[1;33m)\u001b[0m\u001b[1;33m\u001b[0m\u001b[1;33m\u001b[0m\u001b[0m\n\u001b[0m\u001b[0;32m      3\u001b[0m \u001b[0mY\u001b[0m \u001b[1;33m=\u001b[0m \u001b[0mpd\u001b[0m\u001b[1;33m.\u001b[0m\u001b[0mDataFrame\u001b[0m\u001b[1;33m(\u001b[0m\u001b[0mdf\u001b[0m\u001b[1;33m,\u001b[0m \u001b[0mcolumns\u001b[0m\u001b[1;33m=\u001b[0m\u001b[1;33m[\u001b[0m\u001b[1;34m'total_score'\u001b[0m\u001b[1;33m]\u001b[0m\u001b[1;33m)\u001b[0m\u001b[1;33m\u001b[0m\u001b[1;33m\u001b[0m\u001b[0m\n\u001b[0;32m      4\u001b[0m \u001b[1;33m\u001b[0m\u001b[0m\n\u001b[0;32m      5\u001b[0m \u001b[0mX_train\u001b[0m\u001b[1;33m,\u001b[0m \u001b[0mX_test\u001b[0m\u001b[1;33m,\u001b[0m \u001b[0mY_train\u001b[0m\u001b[1;33m,\u001b[0m \u001b[0mY_test\u001b[0m \u001b[1;33m=\u001b[0m \u001b[0mtrain_test_split\u001b[0m\u001b[1;33m(\u001b[0m\u001b[0mX\u001b[0m\u001b[1;33m,\u001b[0m \u001b[0mY\u001b[0m\u001b[1;33m,\u001b[0m \u001b[0mrandom_state\u001b[0m\u001b[1;33m=\u001b[0m\u001b[1;36m1\u001b[0m\u001b[1;33m)\u001b[0m\u001b[1;33m\u001b[0m\u001b[1;33m\u001b[0m\u001b[0m\n",
      "\u001b[1;31mNameError\u001b[0m: name 'pd' is not defined"
     ]
    }
   ],
   "source": [
    "from IPython.display import display\n",
    "X = pd.DataFrame(df, columns = ['home_avg_yards', 'home_avg_TO', 'away_avg_yards', 'away_avg_TO'])\n",
    "Y = pd.DataFrame(df, columns=['total_score'])\n",
    "\n",
    "X_train, X_test, Y_train, Y_test = train_test_split(X, Y, random_state=1)"
   ]
  },
  {
   "cell_type": "code",
   "execution_count": 63,
   "metadata": {},
   "outputs": [
    {
     "data": {
      "text/plain": [
       "array([[39.86327355],\n",
       "       [40.67745688],\n",
       "       [44.39429477],\n",
       "       ...,\n",
       "       [45.32048563],\n",
       "       [52.83580128],\n",
       "       [45.38102311]])"
      ]
     },
     "execution_count": 63,
     "metadata": {},
     "output_type": "execute_result"
    }
   ],
   "source": [
    "# Create linear regression model\n",
    "lin_reg_mod = LinearRegression()\n",
    "# Fit linear regression\n",
    "lin_reg_mod.fit(X_train, Y_train)\n",
    "# Make prediction on the testing data\n",
    "pred = lin_reg_mod.predict(X_test)\n",
    "pred"
   ]
  },
  {
   "cell_type": "code",
   "execution_count": 49,
   "metadata": {},
   "outputs": [
    {
     "name": "stdout",
     "output_type": "stream",
     "text": [
      "[-10.43594174]\n",
      "[[ 0.08095847 -0.10562879  0.07853732  0.5470625 ]]\n"
     ]
    }
   ],
   "source": [
    "print(lin_reg_mod.intercept_)\n",
    "print(lin_reg_mod.coef_)"
   ]
  },
  {
   "cell_type": "code",
   "execution_count": 50,
   "metadata": {},
   "outputs": [
    {
     "name": "stdout",
     "output_type": "stream",
     "text": [
      "0.111368472602552\n"
     ]
    }
   ],
   "source": [
    "test_set_r2 = r2_score(Y_test, pred)\n",
    "# The closer towards 1, the better the fit\n",
    "print(test_set_r2)"
   ]
  },
  {
   "cell_type": "code",
   "execution_count": 51,
   "metadata": {},
   "outputs": [
    {
     "name": "stdout",
     "output_type": "stream",
     "text": [
      "22.691387555816192\n"
     ]
    }
   ],
   "source": [
    "# Calculate the Root Mean Square Error between the actual & predicted\n",
    "test_set_rmse = (np.sqrt(mean_squared_error(y_test, pred)))\n",
    "# Note that for rmse, the lower that value is, the better the fit\n",
    "print(test_set_rmse)"
   ]
  },
  {
   "cell_type": "code",
   "execution_count": 65,
   "metadata": {},
   "outputs": [
    {
     "name": "stdout",
     "output_type": "stream",
     "text": [
      "44.72809706838705\n"
     ]
    },
    {
     "data": {
      "text/plain": [
       "schedule_date      9/29/1991\n",
       "schedule_season         1991\n",
       "home_id                  NYJ\n",
       "away_id                  MIA\n",
       "score_home                41\n",
       "home_avg_yards       304.824\n",
       "home_avg_TO          1.41176\n",
       "score_away                23\n",
       "away_avg_yards       318.294\n",
       "away_avg_TO          1.41176\n",
       "total_score               64\n",
       "over_under_line           38\n",
       "label                   over\n",
       "Name: 2663, dtype: object"
      ]
     },
     "execution_count": 65,
     "metadata": {},
     "output_type": "execute_result"
    }
   ],
   "source": [
    "n = pred[10][0]\n",
    "print(n)\n",
    "df.iloc[2663]\n",
    "X_test"
   ]
  },
  {
   "cell_type": "code",
   "execution_count": 27,
   "metadata": {
    "scrolled": true
   },
   "outputs": [
    {
     "name": "stdout",
     "output_type": "stream",
     "text": [
      "home_avg_yards    304.823529\n",
      "home_avg_TO         1.411765\n",
      "Name: 2663, dtype: float64\n"
     ]
    }
   ],
   "source": []
  },
  {
   "cell_type": "code",
   "execution_count": 28,
   "metadata": {},
   "outputs": [
    {
     "data": {
      "text/plain": [
       "schedule_date      9/29/1991\n",
       "schedule_season         1991\n",
       "home_id                  NYJ\n",
       "away_id                  MIA\n",
       "score_home                41\n",
       "home_avg_yards       304.824\n",
       "home_avg_TO          1.41176\n",
       "score_away                23\n",
       "away_avg_yards       318.294\n",
       "away_avg_TO          1.41176\n",
       "total_score               64\n",
       "over_under_line           38\n",
       "label                   over\n",
       "Name: 2663, dtype: object"
      ]
     },
     "execution_count": 28,
     "metadata": {},
     "output_type": "execute_result"
    }
   ],
   "source": []
  },
  {
   "cell_type": "code",
   "execution_count": null,
   "metadata": {},
   "outputs": [],
   "source": []
  }
 ],
 "metadata": {
  "kernelspec": {
   "display_name": "Python 3",
   "language": "python",
   "name": "python3"
  },
  "language_info": {
   "codemirror_mode": {
    "name": "ipython",
    "version": 3
   },
   "file_extension": ".py",
   "mimetype": "text/x-python",
   "name": "python",
   "nbconvert_exporter": "python",
   "pygments_lexer": "ipython3",
   "version": "3.8.3"
  }
 },
 "nbformat": 4,
 "nbformat_minor": 4
}
